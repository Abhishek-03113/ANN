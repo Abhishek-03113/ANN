{
 "cells": [
  {
   "cell_type": "code",
   "execution_count": 4,
   "metadata": {},
   "outputs": [
    {
     "data": {
      "text/plain": [
       "'\\nAlgorithm:\\n1. start  \\n2. Initialize Weights and Biases:\\n    2.1 Initialize the weights W1 and W2 randomly.\\n    2.2 Initialize the biases b1 and b2 randomly.\\n\\n3.Forward Propagation:\\n    3.1. Compute the input to the hidden layer: layer1 = sigmoid(np.dot(X, W1) + b1).\\n    3.2. Compute the output of the network: layer2 = sigmoid(np.dot(layer1, W2) + b2).\\n\\n4.Backpropagation:\\n    4.1. Compute the error between the actual output y and the predicted output layer2: error = y - layer2.\\n    4.2. Compute the delta for the output layer: delta2 = error * sigmoid_derivative(layer2).\\n    4.3. Compute the delta for the hidden layer: delta1 = np.dot(delta2, W2.T) * sigmoid_derivative(layer1).\\n\\n5.Update Weights and Biases:\\n    5.1 Update the weights and biases using the learning rate learning_rate:\\n        W2 += learning_rate * np.dot(layer1.T, delta2)\\n        b2 += learning_rate * np.sum(delta2, axis=0, keepdims=True)\\n        W1 += learning_rate * np.dot(X.T, delta1)\\n        b1 += learning_rate * np.sum(delta1, axis=0, keepdims=True)\\n\\n6.Repeat:\\n    6.1 Repeat steps 2-4 for a specified number of epochs (num_epochs).\\n\\n7.Evaluate:\\n    7.1. Compute the predictions based on the final output layer2: predictions = (layer2 > 0.5).astype(int).\\n    7.2. Calculate the accuracy of the trained network: accuracy = np.mean(predictions == y).\\n\\n8.Visualize:\\n    8.1. Plot the decision boundary of the trained network using Matplotlib.\\n'"
      ]
     },
     "execution_count": 4,
     "metadata": {},
     "output_type": "execute_result"
    }
   ],
   "source": [
    "\"Write a python program to show Back Propagation Network for XOR function with Binary Input and Output\"\n",
    "\n",
    "\"\"\"\n",
    "Algorithm:\n",
    "1. start  \n",
    "2. Initialize Weights and Biases:\n",
    "    2.1 Initialize the weights W1 and W2 randomly.\n",
    "    2.2 Initialize the biases b1 and b2 randomly.\n",
    "\n",
    "3.Forward Propagation:\n",
    "    3.1. Compute the input to the hidden layer: layer1 = sigmoid(np.dot(X, W1) + b1).\n",
    "    3.2. Compute the output of the network: layer2 = sigmoid(np.dot(layer1, W2) + b2).\n",
    "\n",
    "4.Backpropagation:\n",
    "    4.1. Compute the error between the actual output y and the predicted output layer2: error = y - layer2.\n",
    "    4.2. Compute the delta for the output layer: delta2 = error * sigmoid_derivative(layer2).\n",
    "    4.3. Compute the delta for the hidden layer: delta1 = np.dot(delta2, W2.T) * sigmoid_derivative(layer1).\n",
    "\n",
    "5.Update Weights and Biases:\n",
    "    5.1 Update the weights and biases using the learning rate learning_rate:\n",
    "        W2 += learning_rate * np.dot(layer1.T, delta2)\n",
    "        b2 += learning_rate * np.sum(delta2, axis=0, keepdims=True)\n",
    "        W1 += learning_rate * np.dot(X.T, delta1)\n",
    "        b1 += learning_rate * np.sum(delta1, axis=0, keepdims=True)\n",
    "\n",
    "6.Repeat:\n",
    "    6.1 Repeat steps 2-4 for a specified number of epochs (num_epochs).\n",
    "\n",
    "7.Evaluate:\n",
    "    7.1. Compute the predictions based on the final output layer2: predictions = (layer2 > 0.5).astype(int).\n",
    "    7.2. Calculate the accuracy of the trained network: accuracy = np.mean(predictions == y).\n",
    "\n",
    "8.Visualize:\n",
    "    8.1. Plot the decision boundary of the trained network using Matplotlib.\n",
    "\"\"\"\n"
   ]
  },
  {
   "cell_type": "code",
   "execution_count": 8,
   "metadata": {},
   "outputs": [
    {
     "name": "stdout",
     "output_type": "stream",
     "text": [
      "Accuracy: 100.00%\n"
     ]
    },
    {
     "data": {
      "image/png": "[encoded data removed]",
      "text/plain": [
       "<Figure size 800x800 with 1 Axes>"
      ]
     },
     "metadata": {},
     "output_type": "display_data"
    }
   ],
   "source": [
    "import numpy as np\n",
    "import matplotlib.pyplot as plt\n",
    "import cv2 \n",
    "# Define the input and output data\n",
    "X = np.array([[0, 0], [0, 1], [1, 0], [1, 1]])\n",
    "y = np.array([[0], [1], [1], [0]])\n",
    "\n",
    "# Define the network architecture\n",
    "input_size = 2\n",
    "hidden_size = 2\n",
    "output_size = 1\n",
    "\n",
    "# Initialize the weights randomly\n",
    "W1 = np.random.randn(input_size, hidden_size)\n",
    "b1 = np.random.randn(1, hidden_size)\n",
    "W2 = np.random.randn(hidden_size, output_size)\n",
    "b2 = np.random.randn(1, output_size)\n",
    "\n",
    "# Define the activation function (sigmoid)\n",
    "def sigmoid(x):\n",
    "    return 1 / (1 + np.exp(-x))\n",
    "\n",
    "# Define the derivative of the activation function\n",
    "def sigmoid_derivative(x):\n",
    "    return x * (1 - x)\n",
    "\n",
    "# Implement the backpropagation algorithm\n",
    "learning_rate = 0.1\n",
    "num_epochs = 10000\n",
    "\n",
    "for epoch in range(num_epochs):\n",
    "    # Forward propagation\n",
    "    layer1 = sigmoid(np.dot(X, W1) + b1)\n",
    "    layer2 = sigmoid(np.dot(layer1, W2) + b2)\n",
    "\n",
    "    # Backpropagation\n",
    "    error = y - layer2\n",
    "    delta2 = error * sigmoid_derivative(layer2)\n",
    "    delta1 = np.dot(delta2, W2.T) * sigmoid_derivative(layer1)\n",
    "\n",
    "    # Update the weights and biases\n",
    "    W2 += learning_rate * np.dot(layer1.T, delta2)\n",
    "    b2 += learning_rate * np.sum(delta2, axis=0, keepdims=True)\n",
    "    W1 += learning_rate * np.dot(X.T, delta1)\n",
    "    b1 += learning_rate * np.sum(delta1, axis=0, keepdims=True)\n",
    "\n",
    "# Test the trained network\n",
    "predictions = (layer2 > 0.5).astype(int)\n",
    "accuracy = np.mean(predictions == y)\n",
    "print(f\"Accuracy: {accuracy * 100:.2f}%\")\n",
    "\n",
    "# Plot the decision boundary\n",
    "xx, yy = np.meshgrid(np.linspace(0, 1, 100), np.linspace(0, 1, 100))\n",
    "Z = sigmoid(np.dot(np.c_[xx.ravel(), yy.ravel()], W1) + b1)\n",
    "Z = sigmoid(np.dot(Z, W2) + b2)\n",
    "Z = Z.reshape(xx.shape)\n",
    "\n",
    "plt.figure(figsize=(8, 8))\n",
    "plt.contourf(xx, yy, Z, cmap=plt.cm.Greys)\n",
    "plt.scatter(X[:, 0], X[:, 1], c=y.ravel(), cmap=plt.cm.Greys)\n",
    "plt.xlabel('X1')\n",
    "plt.ylabel('X2')\n",
    "plt.title('XOR Decision Boundary')\n",
    "plt.show()"
   ]
  },
  {
   "cell_type": "code",
   "execution_count": null,
   "metadata": {},
   "outputs": [],
   "source": []
  }
 ],
 "metadata": {
  "kernelspec": {
   "display_name": "base",
   "language": "python",
   "name": "python3"
  },
  "language_info": {
   "codemirror_mode": {
    "name": "ipython",
    "version": 3
   },
   "file_extension": ".py",
   "mimetype": "text/x-python",
   "name": "python",
   "nbconvert_exporter": "python",
   "pygments_lexer": "ipython3",
   "version": "3.11.5"
  }
 },
 "nbformat": 4,
 "nbformat_minor": 2
}
