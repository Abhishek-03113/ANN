{
 "cells": [
  {
   "cell_type": "code",
   "execution_count": null,
   "metadata": {},
   "outputs": [],
   "source": [
    "Algorithm: Hopfield Network\n",
    "\n",
    "1. Initialize Hopfield Network\n",
    "    - Define a class HopfieldNetwork with a constructor that takes the number of neurons as input.\n",
    "    - Initialize the weight matrix to zeros.\n",
    "\n",
    "2. Training the Network\n",
    "    Input: patterns (list of vectors)\n",
    "    1. For each pattern in patterns:\n",
    "        1.1 Convert the pattern to a numpy array.\n",
    "        1.2 Update the weight matrix by adding the outer product of the pattern with itself.\n",
    "    2. Set the diagonal elements of the weight matrix to 0.\n",
    "\n",
    "3. Prediction\n",
    "    Input: test_pattern (input pattern to be predicted), max_iterations (optional)\n",
    "    1. Convert the test_pattern to a numpy array.\n",
    "    2. Repeat the following steps for a maximum of max_iterations times:\n",
    "        2.1 Copy the current pattern as previous pattern.\n",
    "        2.2 Update the current pattern by applying the sign function to the dot product of the weight matrix and the current pattern.\n",
    "        2.3 If the updated pattern is equal to the previous pattern, break the loop.\n",
    "    3. Return the predicted pattern.\n",
    "\n",
    "4. Example Usage:\n",
    "    1. Define the number of neurons and patterns.\n",
    "    2. Create a HopfieldNetwork object.\n",
    "    3. Train the network with the provided patterns.\n",
    "    4. Test the network with noisy patterns using the predict method.\n",
    "    5. Display the original and predicted patterns.\n"
   ]
  },
  {
   "cell_type": "code",
   "execution_count": 1,
   "metadata": {},
   "outputs": [
    {
     "data": {
      "image/png": "[encoded data removed]",
      "text/plain": [
       "<PIL.PngImagePlugin.PngImageFile image mode=RGBA size=289x347>"
      ]
     },
     "execution_count": 1,
     "metadata": {},
     "output_type": "execute_result"
    }
   ],
   "source": [
    "from PIL import Image\n",
    "Image.open('hopfield.png')"
   ]
  },
  {
   "cell_type": "code",
   "execution_count": 10,
   "metadata": {},
   "outputs": [],
   "source": [
    "import numpy as np\n",
    "import matplotlib.pyplot as plt\n",
    "import random"
   ]
  },
  {
   "cell_type": "code",
   "execution_count": 11,
   "metadata": {},
   "outputs": [
    {
     "name": "stdout",
     "output_type": "stream",
     "text": [
      "Original pattern: [1, -1, 1, -1]\n",
      "Noisy input: [1, 1, 1, -1]\n",
      "Recalled pattern: [-1, -1, -1, 1]\n"
     ]
    }
   ],
   "source": [
    "import numpy as np\n",
    "\n",
    "class HopfieldNetwork:\n",
    "  def __init__(self, size):\n",
    "    self.size = size\n",
    "    self.weights = np.zeros((size, size))\n",
    "\n",
    "  def train(self, patterns):\n",
    "    \"\"\"\n",
    "    Trains the network on a list of binary patterns.\n",
    "\n",
    "    Args:\n",
    "      patterns: A list of binary vectors (lists or numpy arrays) of size 'size'.\n",
    "    \"\"\"\n",
    "    for pattern1 in patterns:\n",
    "      for pattern2 in patterns:\n",
    "        if pattern1 is not pattern2:  # Avoid self-connection\n",
    "          self.weights += np.outer(pattern1, pattern2)\n",
    "\n",
    "    # Normalize weights (Hebbian learning with a factor of 1/N)\n",
    "    self.weights /= self.size\n",
    "\n",
    "  def update(self, input_vector, iterations=1):\n",
    "    \"\"\"\n",
    "    Updates the network state iteratively based on the input vector.\n",
    "\n",
    "    Args:\n",
    "      input_vector: A binary vector of size 'size'.\n",
    "      iterations: Number of update iterations (default: 1).\n",
    "\n",
    "    Returns:\n",
    "      The converged output vector after iterations.\n",
    "    \"\"\"\n",
    "    output_vector = input_vector.copy()\n",
    "    for _ in range(iterations):\n",
    "      for i in range(self.size):\n",
    "        weighted_sum = np.sum(self.weights[i] * output_vector)\n",
    "        output_vector[i] = 1 if weighted_sum > 0 else -1\n",
    "    return output_vector\n",
    "\n",
    "  def recall(self, input_vector):\n",
    "    \"\"\"\n",
    "    Recalls a stored pattern based on a similar input vector.\n",
    "\n",
    "    Args:\n",
    "      input_vector: A binary vector of size 'size'.\n",
    "\n",
    "    Returns:\n",
    "      The recalled pattern (converged output vector).\n",
    "    \"\"\"\n",
    "    return self.update(input_vector)\n",
    "\n",
    "# Example usage\n",
    "network = HopfieldNetwork(4)\n",
    "\n",
    "# Define 4 binary patterns (replace with your desired patterns)\n",
    "patterns = [\n",
    "    [1, -1, 1, -1],\n",
    "    [-1, 1, -1, 1],\n",
    "    [1, 1, 1, 1],\n",
    "    [-1, -1, -1, -1]\n",
    "]\n",
    "\n",
    "network.train(patterns)\n",
    "\n",
    "# Test recall with a noisy version of the first pattern\n",
    "noisy_pattern = [1, 1, 1, -1]\n",
    "recalled_pattern = network.recall(noisy_pattern)\n",
    "\n",
    "print(\"Original pattern:\", patterns[0])\n",
    "print(\"Noisy input:\", noisy_pattern)\n",
    "print(\"Recalled pattern:\", recalled_pattern)\n"
   ]
  },
  {
   "cell_type": "code",
   "execution_count": null,
   "metadata": {},
   "outputs": [],
   "source": []
  }
 ],
 "metadata": {
  "kernelspec": {
   "display_name": "base",
   "language": "python",
   "name": "python3"
  },
  "language_info": {
   "codemirror_mode": {
    "name": "ipython",
    "version": 3
   },
   "file_extension": ".py",
   "mimetype": "text/x-python",
   "name": "python",
   "nbconvert_exporter": "python",
   "pygments_lexer": "ipython3",
   "version": "3.11.5"
  }
 },
 "nbformat": 4,
 "nbformat_minor": 2
}
