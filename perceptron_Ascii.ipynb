{
 "cells": [
  {
   "cell_type": "code",
   "execution_count": null,
   "metadata": {},
   "outputs": [],
   "source": [
    "\"\"\"Write a Python Program using Perceptron Neural Network to recognize even and odd numbers. Given numbers are in ASCII form 0 to 9\"\"\"\n",
    "\n",
    "\"\"\"Algorithm:\"\"\"\n",
    "\"\"\"\n",
    "1. Initialize the weights and bias to zero.\n",
    "2. Read the input number.\n",
    "3. Convert the input number to ASCII form.\n",
    "4. Calculate the weighted sum of the input number.\n",
    "5. Apply the activation function.\n",
    "6. If the output is 1, then the number is even.\n",
    "7. If the output is 0, then the number is odd.\n",
    "8. Stop.\n",
    "\n",
    "\"\"\""
   ]
  },
  {
   "cell_type": "code",
   "execution_count": 2,
   "metadata": {},
   "outputs": [
    {
     "name": "stdout",
     "output_type": "stream",
     "text": [
      "The perceptron predicts that the ASCII number 0000110000 (decimal: 48) is even.\n",
      "The perceptron predicts that the ASCII number 0010000100 (decimal: 132) is even.\n",
      "The perceptron predicts that the ASCII number 0100010001 (decimal: 273) is odd.\n",
      "The perceptron predicts that the ASCII number 0110000011 (decimal: 387) is odd.\n"
     ]
    }
   ],
   "source": [
    "import numpy as np\n",
    "class Perceptron:\n",
    "    def __init__(self, input_size, learning_rate=0.01, epochs=100):\n",
    "        self.weights = np.zeros(input_size + 1)\n",
    "        self.learning_rate = learning_rate\n",
    "        self.epochs = epochs\n",
    "    def predict(self, inputs):\n",
    "        summation = np.dot(inputs, self.weights[1:]) + self.weights[0]\n",
    "        return 1 if summation >= 0 else 0\n",
    "    def train(self, training_inputs, labels):\n",
    "        for _ in range(self.epochs):\n",
    "            for inputs, label in zip(training_inputs, labels):\n",
    "                prediction = self.predict(inputs)\n",
    "                self.weights[1:] += self.learning_rate * (label - prediction) * inputs\n",
    "                self.weights[0] += self.learning_rate * (label - prediction)\n",
    "# Define training data and labels for even and odd numbers (in ASCII)\n",
    "training_data = np.array([\n",
    "[0, 0, 0, 0, 1, 1, 0, 0, 0, 0], # ASCII for 0\n",
    "[0, 0, 1, 0, 0, 0, 0, 1, 0, 0], # ASCII for 2\n",
    "[0, 0, 0, 0, 0, 1, 0, 0, 1, 0], # ASCII for 4\n",
    "[0, 1, 1, 0, 0, 0, 0, 0, 0, 0], # ASCII for 6\n",
    "[0, 1, 0, 0, 0, 0, 1, 0, 0, 0], # ASCII for 8\n",
    "[0, 0, 0, 0, 1, 0, 0, 0, 0, 0], # ASCII for 1\n",
    "[0, 0, 1, 0, 0, 0, 0, 0, 0, 1], # ASCII for 3\n",
    "[0, 0, 0, 0, 0, 0, 0, 1, 0, 1], # ASCII for 5\n",
    "[0, 1, 1, 0, 0, 0, 0, 0, 1, 1], # ASCII for 7\n",
    "[0, 1, 0, 0, 0, 1, 0, 0, 0, 1] # ASCII for 9\n",
    "])\n",
    "labels = np.array([1, 1, 1, 1, 1, 0, 0, 0, 0, 0]) # 1 for even, 0 for odd\n",
    "# Initialize and train the perceptron\n",
    "perceptron = Perceptron(input_size=10)\n",
    "perceptron.train(training_data, labels)\n",
    "# Test the perceptron\n",
    "test_cases = [\n",
    "[0, 0, 0, 0, 1, 1, 0, 0, 0, 0], # ASCII for 0 (even)\n",
    "[0, 0, 1, 0, 0, 0, 0, 1, 0, 0], # ASCII for 2 (even)\n",
    "[0, 1, 0, 0, 0, 1, 0, 0, 0, 1], # ASCII for 9 (odd)\n",
    "[0, 1, 1, 0, 0, 0, 0, 0, 1, 1] # ASCII for 7 (odd)\n",
    "]\n",
    "for test_case in test_cases:\n",
    "    prediction = perceptron.predict(test_case)\n",
    "    number_ascii = ''.join([str(bit) for bit in test_case])\n",
    "    number_decimal = int(number_ascii, 2)\n",
    "    print(f\"The perceptron predicts that the ASCII number {number_ascii} (decimal: {number_decimal}) is {'even' if prediction == 1 else 'odd'}.\")"
   ]
  },
  {
   "cell_type": "code",
   "execution_count": null,
   "metadata": {},
   "outputs": [],
   "source": []
  }
 ],
 "metadata": {
  "kernelspec": {
   "display_name": "base",
   "language": "python",
   "name": "python3"
  },
  "language_info": {
   "codemirror_mode": {
    "name": "ipython",
    "version": 3
   },
   "file_extension": ".py",
   "mimetype": "text/x-python",
   "name": "python",
   "nbconvert_exporter": "python",
   "pygments_lexer": "ipython3",
   "version": "3.11.5"
  }
 },
 "nbformat": 4,
 "nbformat_minor": 2
}
