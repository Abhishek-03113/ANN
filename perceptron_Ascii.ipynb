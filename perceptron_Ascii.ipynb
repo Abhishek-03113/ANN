{
 "cells": [
  {
   "cell_type": "code",
   "execution_count": 7,
   "metadata": {},
   "outputs": [
    {
     "name": "stdout",
     "output_type": "stream",
     "text": [
      "3  is  odd\n"
     ]
    }
   ],
   "source": [
    "import numpy as np\n",
    "\n",
    "j = 3\n",
    "step_function = lambda x: 1 if x >= 0 else 0\n",
    "\n",
    "training_data = [\n",
    "    {'input': [1, 1, 0, 0, 0, 0], 'label': 1},\n",
    "    {'input': [1, 1, 0, 0, 0, 1], 'label': 0},\n",
    "    {'input': [1, 1, 0, 0, 1, 0], 'label': 1},\n",
    "    {'input': [1, 1, 0, 1, 1, 1], 'label': 0},\n",
    "    {'input': [1, 1, 0, 1, 0, 0], 'label': 1},\n",
    "    {'input': [1, 1, 0, 1, 0, 1], 'label': 0},\n",
    "    {'input': [1, 1, 0, 1, 1, 0], 'label': 1},\n",
    "    {'input': [1, 1, 0, 1, 1, 1], 'label': 0},\n",
    "    {'input': [1, 1, 1, 0, 0, 0], 'label': 1},\n",
    "    {'input': [1, 1, 1, 0, 0, 1], 'label': 0},\n",
    "]\n",
    "\n",
    "weights = np.array([0, 0, 0, 0, 0, 1])\n",
    "\n",
    "for data in training_data:\n",
    "    input = np.array(data['input'])\n",
    "    label = data['label']\n",
    "    output = step_function(np.dot(input, weights))\n",
    "    error = label - output\n",
    "    weights += input * error\n",
    "\n",
    "input = np.array([int(x) for x in list('{0:06b}'.format(j))])\n",
    "output = \"odd\" if step_function(np.dot(input, weights)) == 0 else \"even\"\n",
    "print(j, \" is \", output)\n"
   ]
  },
  {
   "cell_type": "code",
   "execution_count": 9,
   "metadata": {},
   "outputs": [
    {
     "data": {
      "text/plain": [
       "['0', '0', '0', '0', '1', '1']"
      ]
     },
     "execution_count": 9,
     "metadata": {},
     "output_type": "execute_result"
    }
   ],
   "source": [
    "list('{0:06b}'.format(j))"
   ]
  },
  {
   "cell_type": "code",
   "execution_count": null,
   "metadata": {},
   "outputs": [],
   "source": []
  },
  {
   "cell_type": "code",
   "execution_count": null,
   "metadata": {},
   "outputs": [],
   "source": []
  }
 ],
 "metadata": {
  "kernelspec": {
   "display_name": "base",
   "language": "python",
   "name": "python3"
  },
  "language_info": {
   "codemirror_mode": {
    "name": "ipython",
    "version": 3
   },
   "file_extension": ".py",
   "mimetype": "text/x-python",
   "name": "python",
   "nbconvert_exporter": "python",
   "pygments_lexer": "ipython3",
   "version": "3.11.5"
  }
 },
 "nbformat": 4,
 "nbformat_minor": 2
}
