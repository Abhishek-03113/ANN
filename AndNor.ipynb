{
 "cells": [
  {
   "cell_type": "markdown",
   "metadata": {},
   "source": [
    "<img src=\"algorithm.png\">"
   ]
  },
  {
   "cell_type": "code",
   "execution_count": null,
   "metadata": {},
   "outputs": [],
   "source": [
    "\"\"\"Generate AND NOT function using McCulloch-Pitts neural net by a python program\"\"\"\n",
    "\n",
    "\"\"\"Algorithm:\n",
    "\n",
    "mp_neuron Function:\n",
    "Input: List of binary inputs inputs, list of corresponding weights weights, threshold value threshold.\n",
    "Step 1: Check if the length of inputs is equal to the length of weights. If not, raise an assertion error.\n",
    "Step 2: Initialize activation to 0.\n",
    "Step 3: For each pair of input x and weight w in the zip of inputs and weights:\n",
    "Step 3.1: Multiply x and w and add the result to activation.\n",
    "Step 4: Check if activation is greater than or equal to threshold.\n",
    "Step 5: If true, return 1; otherwise, return 0.\n",
    "andnot Function:\n",
    "\n",
    "Input: Two binary inputs x1 and x2.\n",
    "Step 1: Set the weights for the inputs: 1 for x1 and -1 for x2.\n",
    "Step 2: Set the threshold to 0.\n",
    "Step 3: Call mp_neuron function with inputs [x1, x2], weights, and threshold.\n",
    "Step 4: Return the result of the mp_neuron function.\n",
    "Test Cases:\n",
    "\n",
    "For each combination of inputs to the andnot function (0, 0), (0, 1), (1, 0), (1, 1):\n",
    "Step 1: Call the andnot function with the respective inputs.\n",
    "Step 2: Print the result of the function call\n",
    "\n",
    "\n",
    "\"\"\""
   ]
  },
  {
   "cell_type": "markdown",
   "metadata": {},
   "source": []
  },
  {
   "cell_type": "code",
   "execution_count": 1,
   "metadata": {},
   "outputs": [
    {
     "name": "stdout",
     "output_type": "stream",
     "text": [
      "ANDNOT(0, 0) = 1\n",
      "ANDNOT(0, 1) = 0\n",
      "ANDNOT(1, 0) = 1\n",
      "ANDNOT(1, 1) = 1\n"
     ]
    }
   ],
   "source": [
    "def mp_neuron(inputs, weights, threshold):\n",
    "    \"\"\"\n",
    "    McCulloch-Pitts Neuron Model\n",
    "    :param inputs: List of binary input values (0 or 1)\n",
    "    :param weights: List of corresponding weights\n",
    "    :param threshold: Threshold value for activation\n",
    "    :return: 1 if the weighted sum of inputs exceeds the threshold, 0 otherwise\n",
    "    \"\"\"\n",
    "    assert len(inputs) == len(weights), \"Number of inputs must match number of weights\"\n",
    "    activation = sum(x * w for x, w in zip(inputs, weights))\n",
    "    return 1 if activation >= threshold else 0\n",
    "def andnot(x1, x2):\n",
    "    \"\"\"\n",
    "    ANDNOT function implementation\n",
    "    :param x1: First input\n",
    "    :param x2: Second input\n",
    "    :return: Output of the ANDNOT function\n",
    "    \"\"\"\n",
    "    # Weights for inputs: 1 for x1 and -1 for x2\n",
    "    weights = [1, -1]\n",
    "    # Threshold set to 0\n",
    "    threshold = 0\n",
    "    return mp_neuron([x1, x2], weights, threshold)\n",
    "# Test cases\n",
    "print(\"ANDNOT(0, 0) =\", andnot(0, 0))\n",
    "print(\"ANDNOT(0, 1) =\", andnot(0, 1))\n",
    "print(\"ANDNOT(1, 0) =\", andnot(1, 0))\n",
    "print(\"ANDNOT(1, 1) =\", andnot(1, 1))"
   ]
  },
  {
   "cell_type": "code",
   "execution_count": null,
   "metadata": {},
   "outputs": [],
   "source": []
  }
 ],
 "metadata": {
  "kernelspec": {
   "display_name": "base",
   "language": "python",
   "name": "python3"
  },
  "language_info": {
   "codemirror_mode": {
    "name": "ipython",
    "version": 3
   },
   "file_extension": ".py",
   "mimetype": "text/x-python",
   "name": "python",
   "nbconvert_exporter": "python",
   "pygments_lexer": "ipython3",
   "version": "3.11.5"
  }
 },
 "nbformat": 4,
 "nbformat_minor": 2
}
