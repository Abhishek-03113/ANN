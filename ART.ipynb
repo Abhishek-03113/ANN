{
 "cells": [
  {
   "cell_type": "code",
   "execution_count": null,
   "metadata": {},
   "outputs": [],
   "source": [
    "import tensorflow as tf\n",
    "import numpy as np\n",
    "import matplotlib.pyplot as plt"
   ]
  },
  {
   "cell_type": "code",
   "execution_count": 17,
   "metadata": {},
   "outputs": [
    {
     "name": "stdout",
     "output_type": "stream",
     "text": [
      "Testing the ART1 network:\n",
      "Input pattern: [1 0 0 0 1] Category: 2\n",
      "Input pattern: [0 0 1 1 0] Category: 2\n"
     ]
    }
   ],
   "source": [
    "import numpy as np\n",
    "\n",
    "class ART1:\n",
    "    def __init__(self, num_input, num_categories, vigilance):\n",
    "        self.num_input = num_input\n",
    "        self.num_categories = num_categories\n",
    "        self.vigilance = vigilance\n",
    "        self.weights = np.random.rand(num_categories, num_input)\n",
    "        self.category_activations = np.zeros(num_categories)\n",
    "\n",
    "    def normalize_input(self, input_vector):\n",
    "        return input_vector / np.sum(input_vector)\n",
    "\n",
    "    def compute_category_activations(self, input_vector):\n",
    "        self.category_activations = np.dot(self.weights, input_vector)\n",
    "\n",
    "    def category_response(self):\n",
    "        return np.argmax(self.category_activations)\n",
    "\n",
    "    def learn(self, input_vector):\n",
    "        input_vector = self.normalize_input(input_vector)\n",
    "        self.compute_category_activations(input_vector)\n",
    "        while True:\n",
    "            category_index = self.category_response()\n",
    "            category_activation = self.category_activations[category_index]\n",
    "            if np.all(input_vector <= category_activation) and np.dot(self.weights[category_index], input_vector) >= self.vigilance:\n",
    "                break\n",
    "            self.weights[category_index] = np.minimum(1, self.weights[category_index] + input_vector)\n",
    "            self.compute_category_activations(input_vector)\n",
    "\n",
    "    def predict(self, input_vector):\n",
    "        input_vector = self.normalize_input(input_vector)\n",
    "        self.compute_category_activations(input_vector)\n",
    "        category_index = self.category_response()\n",
    "        return category_index\n",
    "\n",
    "# Example usage\n",
    "if __name__ == \"__main__\":\n",
    "    # Define parameters\n",
    "    num_input = 5\n",
    "    num_categories = 3\n",
    "    vigilance = 0.9\n",
    "\n",
    "    # Create ART1 network\n",
    "    art = ART1(num_input, num_categories, vigilance)\n",
    "\n",
    "    # Input patterns\n",
    "    input_patterns = np.array([\n",
    "        [1, 0, 1, 0, 1],\n",
    "        [0, 1, 1, 0, 0],\n",
    "        [1, 1, 0, 0, 1]\n",
    "    ])\n",
    "\n",
    "    # Learn input patterns\n",
    "    for pattern in input_patterns:\n",
    "        art.learn(pattern)\n",
    "\n",
    "    # Test the network with new patterns\n",
    "    test_patterns = np.array([\n",
    "        [1, 0, 0, 0, 1],\n",
    "        [0, 0, 1, 1, 0]\n",
    "    ])\n",
    "\n",
    "    print(\"Testing the ART1 network:\")\n",
    "    for pattern in test_patterns:\n",
    "        category_index = art.predict(pattern)\n",
    "        print(\"Input pattern:\", pattern, \"Category:\", category_index)\n"
   ]
  },
  {
   "cell_type": "code",
   "execution_count": 18,
   "metadata": {},
   "outputs": [
    {
     "name": "stdout",
     "output_type": "stream",
     "text": [
      "Testing performance on known patterns:\n",
      "Input pattern: [1 0 1 0 1]\n",
      "High vigilance category: 2\n",
      "Low vigilance category: 0\n",
      "Input pattern: [0 1 1 0 0]\n",
      "High vigilance category: 2\n",
      "Low vigilance category: 0\n",
      "Input pattern: [1 1 0 0 1]\n",
      "High vigilance category: 2\n",
      "Low vigilance category: 1\n",
      "\n",
      "Testing performance on unseen patterns:\n",
      "Input pattern: [1 0 0 0 1]\n",
      "High vigilance category: 0\n",
      "Low vigilance category: 1\n",
      "Input pattern: [0 0 1 1 0]\n",
      "High vigilance category: 0\n",
      "Low vigilance category: 0\n",
      "\n",
      "Testing convergence:\n",
      "Training with pattern: [1 0 1 0 1]\n",
      "Category activations: [0.43718784 0.30795263 0.97618769]\n",
      "Training with pattern: [0 1 1 0 0]\n",
      "Category activations: [0.36977309 0.47159831 1.        ]\n",
      "Training with pattern: [1 1 0 0 1]\n",
      "Category activations: [0.45831363 0.48313088 0.97618769]\n",
      "\n",
      "Testing robustness to noise:\n",
      "Noisy pattern: [1, 0.1, 0, 0, 1]\n",
      "High vigilance category: 2\n",
      "Low vigilance category: 1\n"
     ]
    }
   ],
   "source": [
    "# Create ART1 network with different parameters\n",
    "art_high_vigilance = ART1(num_input, num_categories, vigilance=0.95)\n",
    "art_low_vigilance = ART1(num_input, num_categories, vigilance=0.8)\n",
    "\n",
    "# Test performance on known patterns\n",
    "print(\"Testing performance on known patterns:\")\n",
    "for pattern in input_patterns:\n",
    "    print(\"Input pattern:\", pattern)\n",
    "    print(\"High vigilance category:\", art_high_vigilance.predict(pattern))\n",
    "    print(\"Low vigilance category:\", art_low_vigilance.predict(pattern))\n",
    "\n",
    "# Test performance on unseen patterns\n",
    "print(\"\\nTesting performance on unseen patterns:\")\n",
    "for pattern in test_patterns:\n",
    "    print(\"Input pattern:\", pattern)\n",
    "    print(\"High vigilance category:\", art_high_vigilance.predict(pattern))\n",
    "    print(\"Low vigilance category:\", art_low_vigilance.predict(pattern))\n",
    "\n",
    "# Test convergence\n",
    "print(\"\\nTesting convergence:\")\n",
    "for pattern in input_patterns:\n",
    "    print(\"Training with pattern:\", pattern)\n",
    "    art.learn(pattern)\n",
    "    print(\"Category activations:\", art.category_activations)\n",
    "\n",
    "print(\"\\nTesting robustness to noise:\")\n",
    "noisy_pattern = [1, 0.1, 0, 0, 1]\n",
    "print(\"Noisy pattern:\", noisy_pattern)\n",
    "print(\"High vigilance category:\", art_high_vigilance.predict(noisy_pattern))\n",
    "print(\"Low vigilance category:\", art_low_vigilance.predict(noisy_pattern))"
   ]
  },
  {
   "cell_type": "code",
   "execution_count": 20,
   "metadata": {},
   "outputs": [
    {
     "data": {
      "image/png": "[encoded data removed]",
      "text/plain": [
       "<Figure size 1000x500 with 4 Axes>"
      ]
     },
     "metadata": {},
     "output_type": "display_data"
    }
   ],
   "source": [
    "#plot the results \n",
    "import matplotlib.pyplot as plt \n",
    "plt.figure(figsize=(10, 5))\n",
    "plt.subplot(1, 2, 1)\n",
    "plt.imshow(art_high_vigilance.weights, cmap='hot', interpolation='nearest')\n",
    "plt.title(\"High Vigilance Weights\")\n",
    "plt.colorbar()\n",
    "plt.subplot(1, 2, 2)\n",
    "plt.imshow(art_low_vigilance.weights, cmap='hot', interpolation='nearest')\n",
    "plt.title(\"Low Vigilance Weights\")\n",
    "plt.colorbar()\n",
    "plt.show()"
   ]
  },
  {
   "cell_type": "code",
   "execution_count": null,
   "metadata": {},
   "outputs": [],
   "source": []
  }
 ],
 "metadata": {
  "kernelspec": {
   "display_name": "base",
   "language": "python",
   "name": "python3"
  },
  "language_info": {
   "codemirror_mode": {
    "name": "ipython",
    "version": 3
   },
   "file_extension": ".py",
   "mimetype": "text/x-python",
   "name": "python",
   "nbconvert_exporter": "python",
   "pygments_lexer": "ipython3",
   "version": "3.11.5"
  }
 },
 "nbformat": 4,
 "nbformat_minor": 2
}
